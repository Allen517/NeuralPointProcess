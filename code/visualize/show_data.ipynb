{
 "cells": [
  {
   "cell_type": "code",
   "execution_count": 35,
   "metadata": {
    "collapsed": false
   },
   "outputs": [
    {
     "name": "stdout",
     "output_type": "stream",
     "text": [
      "74 7517 0.0059264340086\n",
      "88 7252 0.00571750690839\n",
      "72 5552 0.00437721985044\n",
      "596 5260 0.00414700583813\n",
      "150 5163 0.00407053063541\n",
      "73 4868 0.00383795141065\n",
      "544 4752 0.00374649652905\n",
      "13 4548 0.0035856620821\n",
      "92 4431 0.00349341879634\n",
      "87 4349 0.0034287696559\n"
     ]
    }
   ],
   "source": [
    "import matplotlib.pyplot as plt\n",
    "from collections import Counter\n",
    "import numpy as np\n",
    "\n",
    "data_root = '../../data/'\n",
    "sub_folder = 'real'\n",
    "\n",
    "data_name = 'lastfm'\n",
    "\n",
    "event_file = '%s/%s/%s/event.txt' % (data_root, sub_folder, data_name)\n",
    "time_file = '%s/%s/%s/time.txt' % (data_root, sub_folder, data_name)\n",
    "\n",
    "event_cnt = Counter()\n",
    "with open(event_file, 'r') as f:\n",
    "    for line in f:\n",
    "        line = line.strip().split(' ')\n",
    "        for e in line:\n",
    "            event_cnt[e] += 1\n",
    "            \n",
    "most_common = event_cnt.most_common()\n",
    "for i in range(10):\n",
    "    print most_common[i][0], most_common[i][1], float(most_common[i][1]) / sum(event_cnt.values())\n",
    "\n",
    "d_list = []\n",
    "with open(time_file, 'r') as f:\n",
    "    for line in f:\n",
    "        line = line.strip().split(' ')\n",
    "        for i in range(len(line) - 1):\n",
    "            d = float(line[i + 1]) - float(line[i])\n",
    "            d_list.append(d)"
   ]
  },
  {
   "cell_type": "code",
   "execution_count": 36,
   "metadata": {
    "collapsed": true
   },
   "outputs": [],
   "source": [
    "d = np.array(d_list)                \n",
    "plt.hist(d, bins=100)\n",
    "plt.show()"
   ]
  },
  {
   "cell_type": "code",
   "execution_count": 39,
   "metadata": {
    "collapsed": true
   },
   "outputs": [],
   "source": [
    "d_list.sort()\n",
    "d = np.array(d_list)\n",
    "plt.hist(d[:1000000], bins=100)\n",
    "plt.show()"
   ]
  }
 ],
 "metadata": {
  "kernelspec": {
   "display_name": "Python 2",
   "language": "python",
   "name": "python2"
  },
  "language_info": {
   "codemirror_mode": {
    "name": "ipython",
    "version": 2
   },
   "file_extension": ".py",
   "mimetype": "text/x-python",
   "name": "python",
   "nbconvert_exporter": "python",
   "pygments_lexer": "ipython2",
   "version": "2.7.6"
  }
 },
 "nbformat": 4,
 "nbformat_minor": 0
}
